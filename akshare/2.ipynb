{
 "metadata": {
  "language_info": {
   "codemirror_mode": {
    "name": "ipython",
    "version": 3
   },
   "file_extension": ".py",
   "mimetype": "text/x-python",
   "name": "python",
   "nbconvert_exporter": "python",
   "pygments_lexer": "ipython3",
   "version": "3.7.6-final"
  },
  "orig_nbformat": 2,
  "kernelspec": {
   "name": "python376jvsc74a57bd04b397aa9dee10420d04abd83fa785096eafb6915f9a05aa436eccb5ff68a1fd0",
   "display_name": "Python 3.7.6 64-bit (conda)"
  }
 },
 "nbformat": 4,
 "nbformat_minor": 2,
 "cells": [
  {
   "cell_type": "code",
   "execution_count": null,
   "metadata": {},
   "outputs": [],
   "source": [
    "import akshare as ak"
   ]
  },
  {
   "cell_type": "code",
   "execution_count": null,
   "metadata": {},
   "outputs": [],
   "source": [
    "fund_message= ak.fund_em_fund_name()"
   ]
  },
  {
   "cell_type": "code",
   "execution_count": null,
   "metadata": {},
   "outputs": [],
   "source": [
    "type(fund_message)"
   ]
  },
  {
   "cell_type": "code",
   "execution_count": null,
   "metadata": {},
   "outputs": [],
   "source": [
    "fund_message.info()"
   ]
  },
  {
   "cell_type": "code",
   "execution_count": null,
   "metadata": {},
   "outputs": [],
   "source": [
    "ak.fund_em_etf_fund_daily() #获取所有开放式基金的实时数据。"
   ]
  },
  {
   "cell_type": "code",
   "execution_count": 22,
   "metadata": {},
   "outputs": [
    {
     "output_type": "execute_result",
     "data": {
      "text/plain": [
       "          净值日期    单位净值    日增长率\n",
       "0   2015-07-08  1.0000  0.0000\n",
       "1   2015-07-10  1.0815  0.0000\n",
       "2   2015-07-13  1.0514 -2.7832\n",
       "3   2015-07-14  1.0323 -1.8166\n",
       "4   2015-07-15  1.0498  1.6952\n",
       "5   2015-07-16  1.0347 -1.4384\n",
       "6   2015-07-17  1.0395  0.4639\n",
       "7   2015-07-20  1.0307 -0.8466\n",
       "8   2015-07-21  1.0184 -1.1934\n",
       "9   2015-07-22  1.0095 -0.8739\n",
       "10  2015-07-23  1.0195  0.9906\n",
       "11  2015-07-24  1.0064 -1.2849\n",
       "12  2015-07-27  0.9354 -7.0548\n",
       "13  2015-07-28  0.9502  1.5822\n",
       "14  2015-07-29  0.9519  0.1789\n",
       "15  2015-07-30  0.9370 -1.5653\n",
       "16  2015-07-31  0.9423  0.5656\n",
       "17  2015-08-03  0.9645  2.3559\n",
       "18  2015-08-04  0.9692  0.4873\n",
       "19  2015-08-05  0.9538 -1.5889"
      ],
      "text/html": "<div>\n<style scoped>\n    .dataframe tbody tr th:only-of-type {\n        vertical-align: middle;\n    }\n\n    .dataframe tbody tr th {\n        vertical-align: top;\n    }\n\n    .dataframe thead th {\n        text-align: right;\n    }\n</style>\n<table border=\"1\" class=\"dataframe\">\n  <thead>\n    <tr style=\"text-align: right;\">\n      <th></th>\n      <th>净值日期</th>\n      <th>单位净值</th>\n      <th>日增长率</th>\n    </tr>\n  </thead>\n  <tbody>\n    <tr>\n      <th>0</th>\n      <td>2015-07-08</td>\n      <td>1.0000</td>\n      <td>0.0000</td>\n    </tr>\n    <tr>\n      <th>1</th>\n      <td>2015-07-10</td>\n      <td>1.0815</td>\n      <td>0.0000</td>\n    </tr>\n    <tr>\n      <th>2</th>\n      <td>2015-07-13</td>\n      <td>1.0514</td>\n      <td>-2.7832</td>\n    </tr>\n    <tr>\n      <th>3</th>\n      <td>2015-07-14</td>\n      <td>1.0323</td>\n      <td>-1.8166</td>\n    </tr>\n    <tr>\n      <th>4</th>\n      <td>2015-07-15</td>\n      <td>1.0498</td>\n      <td>1.6952</td>\n    </tr>\n    <tr>\n      <th>5</th>\n      <td>2015-07-16</td>\n      <td>1.0347</td>\n      <td>-1.4384</td>\n    </tr>\n    <tr>\n      <th>6</th>\n      <td>2015-07-17</td>\n      <td>1.0395</td>\n      <td>0.4639</td>\n    </tr>\n    <tr>\n      <th>7</th>\n      <td>2015-07-20</td>\n      <td>1.0307</td>\n      <td>-0.8466</td>\n    </tr>\n    <tr>\n      <th>8</th>\n      <td>2015-07-21</td>\n      <td>1.0184</td>\n      <td>-1.1934</td>\n    </tr>\n    <tr>\n      <th>9</th>\n      <td>2015-07-22</td>\n      <td>1.0095</td>\n      <td>-0.8739</td>\n    </tr>\n    <tr>\n      <th>10</th>\n      <td>2015-07-23</td>\n      <td>1.0195</td>\n      <td>0.9906</td>\n    </tr>\n    <tr>\n      <th>11</th>\n      <td>2015-07-24</td>\n      <td>1.0064</td>\n      <td>-1.2849</td>\n    </tr>\n    <tr>\n      <th>12</th>\n      <td>2015-07-27</td>\n      <td>0.9354</td>\n      <td>-7.0548</td>\n    </tr>\n    <tr>\n      <th>13</th>\n      <td>2015-07-28</td>\n      <td>0.9502</td>\n      <td>1.5822</td>\n    </tr>\n    <tr>\n      <th>14</th>\n      <td>2015-07-29</td>\n      <td>0.9519</td>\n      <td>0.1789</td>\n    </tr>\n    <tr>\n      <th>15</th>\n      <td>2015-07-30</td>\n      <td>0.9370</td>\n      <td>-1.5653</td>\n    </tr>\n    <tr>\n      <th>16</th>\n      <td>2015-07-31</td>\n      <td>0.9423</td>\n      <td>0.5656</td>\n    </tr>\n    <tr>\n      <th>17</th>\n      <td>2015-08-03</td>\n      <td>0.9645</td>\n      <td>2.3559</td>\n    </tr>\n    <tr>\n      <th>18</th>\n      <td>2015-08-04</td>\n      <td>0.9692</td>\n      <td>0.4873</td>\n    </tr>\n    <tr>\n      <th>19</th>\n      <td>2015-08-05</td>\n      <td>0.9538</td>\n      <td>-1.5889</td>\n    </tr>\n  </tbody>\n</table>\n</div>"
     },
     "metadata": {},
     "execution_count": 22
    }
   ],
   "source": [
    "fund_em_info_df = ak.fund_em_open_fund_info(fund=\"001595\", indicator=\"单位净值走势\")\n",
    "# print(fund_em_info_df)\n",
    "type(fund_em_info_df)\n",
    "fund_em_info_df.head(20)"
   ]
  },
  {
   "cell_type": "code",
   "execution_count": null,
   "metadata": {},
   "outputs": [],
   "source": [
    "fund_em_money_fund_info_df = ak.fund_em_money_fund_info(fund=\"001595\")\n",
    "print(fund_em_money_fund_info_df)\n",
    "fund_em_money_fund_info_df.tail()"
   ]
  },
  {
   "cell_type": "code",
   "execution_count": null,
   "metadata": {},
   "outputs": [],
   "source": []
  }
 ]
}