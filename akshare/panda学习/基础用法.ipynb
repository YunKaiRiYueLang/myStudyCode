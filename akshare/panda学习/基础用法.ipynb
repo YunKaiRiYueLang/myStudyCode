{
 "metadata": {
  "language_info": {
   "codemirror_mode": {
    "name": "ipython",
    "version": 3
   },
   "file_extension": ".py",
   "mimetype": "text/x-python",
   "name": "python",
   "nbconvert_exporter": "python",
   "pygments_lexer": "ipython3",
   "version": "3.7.6-final"
  },
  "orig_nbformat": 2,
  "kernelspec": {
   "name": "python376jvsc74a57bd04b397aa9dee10420d04abd83fa785096eafb6915f9a05aa436eccb5ff68a1fd0",
   "display_name": "Python 3.7.6 64-bit (conda)"
  }
 },
 "nbformat": 4,
 "nbformat_minor": 2,
 "cells": [
  {
   "cell_type": "code",
   "execution_count": null,
   "metadata": {},
   "outputs": [],
   "source": [
    "import pandas as pd\n",
    "import numpy as np"
   ]
  },
  {
   "cell_type": "code",
   "execution_count": null,
   "metadata": {},
   "outputs": [],
   "source": [
    "# head()和tail()函数用于快速预览\n",
    "long_series=pd.Series(np.random.randn(10000))\n",
    "# long_series.head()\n",
    "long_series.head(8)\n",
    "# long_series.tail(3)"
   ]
  },
  {
   "cell_type": "code",
   "execution_count": 30,
   "metadata": {},
   "outputs": [
    {
     "output_type": "execute_result",
     "data": {
      "text/plain": [
       "                   A         B         C\n",
       "2000-01-01  1.506041 -0.045853  0.375774\n",
       "2000-01-02 -0.009640  0.443797  0.859107\n",
       "2000-01-03  0.188610 -1.844992  0.070438"
      ],
      "text/html": "<div>\n<style scoped>\n    .dataframe tbody tr th:only-of-type {\n        vertical-align: middle;\n    }\n\n    .dataframe tbody tr th {\n        vertical-align: top;\n    }\n\n    .dataframe thead th {\n        text-align: right;\n    }\n</style>\n<table border=\"1\" class=\"dataframe\">\n  <thead>\n    <tr style=\"text-align: right;\">\n      <th></th>\n      <th>A</th>\n      <th>B</th>\n      <th>C</th>\n    </tr>\n  </thead>\n  <tbody>\n    <tr>\n      <th>2000-01-01</th>\n      <td>1.506041</td>\n      <td>-0.045853</td>\n      <td>0.375774</td>\n    </tr>\n    <tr>\n      <th>2000-01-02</th>\n      <td>-0.009640</td>\n      <td>0.443797</td>\n      <td>0.859107</td>\n    </tr>\n    <tr>\n      <th>2000-01-03</th>\n      <td>0.188610</td>\n      <td>-1.844992</td>\n      <td>0.070438</td>\n    </tr>\n  </tbody>\n</table>\n</div>"
     },
     "metadata": {},
     "execution_count": 30
    }
   ],
   "source": [
    "index=pd.date_range('1/1/2000',periods=8)\n",
    "df=pd.DataFrame(np.random.randn(8,3),index=index,columns=['A','B','C'])\n",
    "df[:3] #输出前三行数据"
   ]
  },
  {
   "cell_type": "code",
   "execution_count": 33,
   "metadata": {},
   "outputs": [
    {
     "output_type": "execute_result",
     "data": {
      "text/plain": [
       "array([[ 1.50604054, -0.0458533 ,  0.3757741 ],\n",
       "       [-0.00963972,  0.44379736,  0.85910737],\n",
       "       [ 0.18860952, -1.8449923 ,  0.07043842],\n",
       "       [ 0.75964652, -0.27135759,  0.58399047],\n",
       "       [-1.55815691,  0.41600395,  0.54181357],\n",
       "       [-0.47896518, -0.47305328, -0.83456676],\n",
       "       [ 0.52872645,  0.37429478,  2.39061999],\n",
       "       [-0.47437299, -0.74079749,  0.52472693]])"
      ]
     },
     "metadata": {},
     "execution_count": 33
    }
   ],
   "source": [
    "# 属性和底层数据\n",
    "df.shape  #输出 轴 维度\n",
    "df.index  # 输出 轴标签\n",
    "df.columns=[x.lower() for x in df.columns]\n",
    "df.__array__()"
   ]
  },
  {
   "cell_type": "code",
   "execution_count": 36,
   "metadata": {},
   "outputs": [
    {
     "output_type": "execute_result",
     "data": {
      "text/plain": [
       "array([ 0.50106918, -0.24601756,  0.59119549,  0.48348722, -0.33087065])"
      ]
     },
     "metadata": {},
     "execution_count": 36
    }
   ],
   "source": [
    "s = pd.Series(np.random.randn(5), index=['a', 'b', 'c', 'd', 'e'])\n",
    "s.array\n",
    "s.__array__()"
   ]
  },
  {
   "cell_type": "code",
   "execution_count": null,
   "metadata": {},
   "outputs": [],
   "source": []
  }
 ]
}